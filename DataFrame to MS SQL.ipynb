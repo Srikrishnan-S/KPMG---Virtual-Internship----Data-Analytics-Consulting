{
 "cells": [
  {
   "cell_type": "code",
   "execution_count": null,
   "id": "280aab5d",
   "metadata": {},
   "outputs": [],
   "source": [
    "import numpy as np\n",
    "import pandas as pd\n",
    "import pyodbc\n",
    "from sqlalchemy import create_engine\n",
    "\n",
    "\n",
    "\n",
    "\n",
    "server = 'server_name'\n",
    "database = 'database_name'\n",
    "user = 'user_name'\n",
    "password = 'user_password'\n",
    "\n",
    "# Define the connection string for SQL Server\n",
    "connection_str = f'DRIVER={{SQL Server}};SERVER={server};DATABASE={database};UID={user};PWD={password}'\n",
    "\n",
    "# Create a connection to the SQL Server database\n",
    "try:\n",
    "    conn = pyodbc.connect(connection_str)\n",
    "    \n",
    "    # Assuming you have already defined these tables - replace them with your actual DataFrames\n",
    "    Transactions_Table.to_sql(name='transactions', con=conn, if_exists='replace', index=False)\n",
    "    CustomerDemographic_Table.to_sql(name='customerdemographic', con=conn, if_exists='replace', index=False)\n",
    "    CustomerAddress_Table.to_sql(name='customeraddress', con=conn, if_exists='replace', index=False)\n",
    "    \n",
    "    print(\"Data export to SQL Server database is successful\")\n",
    "    \n",
    "except Exception as e:\n",
    "    print(\"Error connecting to SQL Server database: \", str(e))\n"
   ]
  }
 ],
 "metadata": {
  "kernelspec": {
   "display_name": "Python 3 (ipykernel)",
   "language": "python",
   "name": "python3"
  },
  "language_info": {
   "codemirror_mode": {
    "name": "ipython",
    "version": 3
   },
   "file_extension": ".py",
   "mimetype": "text/x-python",
   "name": "python",
   "nbconvert_exporter": "python",
   "pygments_lexer": "ipython3",
   "version": "3.9.18"
  }
 },
 "nbformat": 4,
 "nbformat_minor": 5
}
